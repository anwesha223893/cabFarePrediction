{
 "cells": [
  {
   "cell_type": "markdown",
   "metadata": {
    "papermill": {
     "duration": 0.020892,
     "end_time": "2022-02-28T19:20:24.115029",
     "exception": false,
     "start_time": "2022-02-28T19:20:24.094137",
     "status": "completed"
    },
    "tags": []
   },
   "source": [
    "# NEW-YORK CAB FARE PREDICTION\n"
   ]
  },
  {
   "cell_type": "markdown",
   "metadata": {
    "papermill": {
     "duration": 0.018505,
     "end_time": "2022-02-28T19:20:24.153940",
     "exception": false,
     "start_time": "2022-02-28T19:20:24.135435",
     "status": "completed"
    },
    "tags": []
   },
   "source": [
    "## IMPORTING LIBRARIES"
   ]
  },
  {
   "cell_type": "code",
   "execution_count": 1,
   "metadata": {
    "execution": {
     "iopub.execute_input": "2022-02-28T19:20:24.195109Z",
     "iopub.status.busy": "2022-02-28T19:20:24.194220Z",
     "iopub.status.idle": "2022-02-28T19:20:24.202522Z",
     "shell.execute_reply": "2022-02-28T19:20:24.203198Z",
     "shell.execute_reply.started": "2022-02-28T19:18:58.838669Z"
    },
    "papermill": {
     "duration": 0.030935,
     "end_time": "2022-02-28T19:20:24.203617",
     "exception": false,
     "start_time": "2022-02-28T19:20:24.172682",
     "status": "completed"
    },
    "tags": []
   },
   "outputs": [
    {
     "name": "stdout",
     "output_type": "stream",
     "text": [
      "/kaggle/input/new-york-city-taxi-fare-prediction/sample_submission.csv\n",
      "/kaggle/input/new-york-city-taxi-fare-prediction/GCP-Coupons-Instructions.rtf\n",
      "/kaggle/input/new-york-city-taxi-fare-prediction/train.csv\n",
      "/kaggle/input/new-york-city-taxi-fare-prediction/test.csv\n"
     ]
    }
   ],
   "source": [
    "import numpy as np # linear algebra\n",
    "import pandas as pd # data processing, CSV file I/O (e.g. pd.read_csv)\n",
    "\n",
    "# Input data files are available in the read-only \"../input/\" directory\n",
    "# For example, running this (by clicking run or pressing Shift+Enter) will list all files under the input directory\n",
    "\n",
    "import os\n",
    "for dirname, _, filenames in os.walk('/kaggle/input'):\n",
    "    for filename in filenames:\n",
    "        print(os.path.join(dirname, filename))\n"
   ]
  },
  {
   "cell_type": "code",
   "execution_count": 2,
   "metadata": {
    "execution": {
     "iopub.execute_input": "2022-02-28T19:20:24.247284Z",
     "iopub.status.busy": "2022-02-28T19:20:24.246338Z",
     "iopub.status.idle": "2022-02-28T19:20:24.967264Z",
     "shell.execute_reply": "2022-02-28T19:20:24.966793Z",
     "shell.execute_reply.started": "2022-02-28T19:18:58.849218Z"
    },
    "papermill": {
     "duration": 0.744254,
     "end_time": "2022-02-28T19:20:24.967404",
     "exception": false,
     "start_time": "2022-02-28T19:20:24.223150",
     "status": "completed"
    },
    "tags": []
   },
   "outputs": [],
   "source": [
    "import pandas as pd\n",
    "import numpy as np\n",
    "import matplotlib.pyplot as plt\n",
    "import seaborn as sns"
   ]
  },
  {
   "cell_type": "markdown",
   "metadata": {
    "papermill": {
     "duration": 0.018549,
     "end_time": "2022-02-28T19:20:25.004880",
     "exception": false,
     "start_time": "2022-02-28T19:20:24.986331",
     "status": "completed"
    },
    "tags": []
   },
   "source": [
    "## IMPORTING DATASET"
   ]
  },
  {
   "cell_type": "code",
   "execution_count": 3,
   "metadata": {
    "execution": {
     "iopub.execute_input": "2022-02-28T19:20:25.046268Z",
     "iopub.status.busy": "2022-02-28T19:20:25.045406Z",
     "iopub.status.idle": "2022-02-28T19:20:25.049108Z",
     "shell.execute_reply": "2022-02-28T19:20:25.049647Z",
     "shell.execute_reply.started": "2022-02-28T19:19:09.371189Z"
    },
    "papermill": {
     "duration": 0.026096,
     "end_time": "2022-02-28T19:20:25.049802",
     "exception": false,
     "start_time": "2022-02-28T19:20:25.023706",
     "status": "completed"
    },
    "tags": []
   },
   "outputs": [],
   "source": [
    "file = '/kaggle/input/new-york-city-taxi-fare-prediction/train.csv'"
   ]
  },
  {
   "cell_type": "code",
   "execution_count": 4,
   "metadata": {
    "execution": {
     "iopub.execute_input": "2022-02-28T19:20:25.091918Z",
     "iopub.status.busy": "2022-02-28T19:20:25.091006Z",
     "iopub.status.idle": "2022-02-28T19:20:43.861322Z",
     "shell.execute_reply": "2022-02-28T19:20:43.861742Z",
     "shell.execute_reply.started": "2022-02-28T19:19:10.552703Z"
    },
    "papermill": {
     "duration": 18.793119,
     "end_time": "2022-02-28T19:20:43.861913",
     "exception": false,
     "start_time": "2022-02-28T19:20:25.068794",
     "status": "completed"
    },
    "tags": []
   },
   "outputs": [
    {
     "data": {
      "text/html": [
       "<div>\n",
       "<style scoped>\n",
       "    .dataframe tbody tr th:only-of-type {\n",
       "        vertical-align: middle;\n",
       "    }\n",
       "\n",
       "    .dataframe tbody tr th {\n",
       "        vertical-align: top;\n",
       "    }\n",
       "\n",
       "    .dataframe thead th {\n",
       "        text-align: right;\n",
       "    }\n",
       "</style>\n",
       "<table border=\"1\" class=\"dataframe\">\n",
       "  <thead>\n",
       "    <tr style=\"text-align: right;\">\n",
       "      <th></th>\n",
       "      <th>key</th>\n",
       "      <th>fare_amount</th>\n",
       "      <th>pickup_datetime</th>\n",
       "      <th>pickup_longitude</th>\n",
       "      <th>pickup_latitude</th>\n",
       "      <th>dropoff_longitude</th>\n",
       "      <th>dropoff_latitude</th>\n",
       "      <th>passenger_count</th>\n",
       "    </tr>\n",
       "  </thead>\n",
       "  <tbody>\n",
       "    <tr>\n",
       "      <th>0</th>\n",
       "      <td>2009-06-15 17:26:21.0000001</td>\n",
       "      <td>4.5</td>\n",
       "      <td>2009-06-15 17:26:21 UTC</td>\n",
       "      <td>-73.844311</td>\n",
       "      <td>40.721319</td>\n",
       "      <td>-73.841610</td>\n",
       "      <td>40.712278</td>\n",
       "      <td>1</td>\n",
       "    </tr>\n",
       "    <tr>\n",
       "      <th>1</th>\n",
       "      <td>2010-01-05 16:52:16.0000002</td>\n",
       "      <td>16.9</td>\n",
       "      <td>2010-01-05 16:52:16 UTC</td>\n",
       "      <td>-74.016048</td>\n",
       "      <td>40.711303</td>\n",
       "      <td>-73.979268</td>\n",
       "      <td>40.782004</td>\n",
       "      <td>1</td>\n",
       "    </tr>\n",
       "    <tr>\n",
       "      <th>2</th>\n",
       "      <td>2011-08-18 00:35:00.00000049</td>\n",
       "      <td>5.7</td>\n",
       "      <td>2011-08-18 00:35:00 UTC</td>\n",
       "      <td>-73.982738</td>\n",
       "      <td>40.761270</td>\n",
       "      <td>-73.991242</td>\n",
       "      <td>40.750562</td>\n",
       "      <td>2</td>\n",
       "    </tr>\n",
       "    <tr>\n",
       "      <th>3</th>\n",
       "      <td>2012-04-21 04:30:42.0000001</td>\n",
       "      <td>7.7</td>\n",
       "      <td>2012-04-21 04:30:42 UTC</td>\n",
       "      <td>-73.987130</td>\n",
       "      <td>40.733143</td>\n",
       "      <td>-73.991567</td>\n",
       "      <td>40.758092</td>\n",
       "      <td>1</td>\n",
       "    </tr>\n",
       "    <tr>\n",
       "      <th>4</th>\n",
       "      <td>2010-03-09 07:51:00.000000135</td>\n",
       "      <td>5.3</td>\n",
       "      <td>2010-03-09 07:51:00 UTC</td>\n",
       "      <td>-73.968095</td>\n",
       "      <td>40.768008</td>\n",
       "      <td>-73.956655</td>\n",
       "      <td>40.783762</td>\n",
       "      <td>1</td>\n",
       "    </tr>\n",
       "  </tbody>\n",
       "</table>\n",
       "</div>"
      ],
      "text/plain": [
       "                             key  fare_amount          pickup_datetime  \\\n",
       "0    2009-06-15 17:26:21.0000001          4.5  2009-06-15 17:26:21 UTC   \n",
       "1    2010-01-05 16:52:16.0000002         16.9  2010-01-05 16:52:16 UTC   \n",
       "2   2011-08-18 00:35:00.00000049          5.7  2011-08-18 00:35:00 UTC   \n",
       "3    2012-04-21 04:30:42.0000001          7.7  2012-04-21 04:30:42 UTC   \n",
       "4  2010-03-09 07:51:00.000000135          5.3  2010-03-09 07:51:00 UTC   \n",
       "\n",
       "   pickup_longitude  pickup_latitude  dropoff_longitude  dropoff_latitude  \\\n",
       "0        -73.844311        40.721319         -73.841610         40.712278   \n",
       "1        -74.016048        40.711303         -73.979268         40.782004   \n",
       "2        -73.982738        40.761270         -73.991242         40.750562   \n",
       "3        -73.987130        40.733143         -73.991567         40.758092   \n",
       "4        -73.968095        40.768008         -73.956655         40.783762   \n",
       "\n",
       "   passenger_count  \n",
       "0                1  \n",
       "1                1  \n",
       "2                2  \n",
       "3                1  \n",
       "4                1  "
      ]
     },
     "execution_count": 4,
     "metadata": {},
     "output_type": "execute_result"
    }
   ],
   "source": [
    "fare=pd.read_csv(file, dtype={'fare_amount':np.float64}, na_values={'fare_amount':'430-'}, nrows = 7000000)\n",
    "fare.head()\n"
   ]
  },
  {
   "cell_type": "code",
   "execution_count": 5,
   "metadata": {
    "execution": {
     "iopub.execute_input": "2022-02-28T19:20:44.030155Z",
     "iopub.status.busy": "2022-02-28T19:20:43.996229Z",
     "iopub.status.idle": "2022-02-28T19:20:45.574557Z",
     "shell.execute_reply": "2022-02-28T19:20:45.574091Z",
     "shell.execute_reply.started": "2022-02-28T19:19:31.051745Z"
    },
    "papermill": {
     "duration": 1.693015,
     "end_time": "2022-02-28T19:20:45.574701",
     "exception": false,
     "start_time": "2022-02-28T19:20:43.881686",
     "status": "completed"
    },
    "tags": []
   },
   "outputs": [
    {
     "data": {
      "text/html": [
       "<div>\n",
       "<style scoped>\n",
       "    .dataframe tbody tr th:only-of-type {\n",
       "        vertical-align: middle;\n",
       "    }\n",
       "\n",
       "    .dataframe tbody tr th {\n",
       "        vertical-align: top;\n",
       "    }\n",
       "\n",
       "    .dataframe thead th {\n",
       "        text-align: right;\n",
       "    }\n",
       "</style>\n",
       "<table border=\"1\" class=\"dataframe\">\n",
       "  <thead>\n",
       "    <tr style=\"text-align: right;\">\n",
       "      <th></th>\n",
       "      <th>fare_amount</th>\n",
       "      <th>pickup_longitude</th>\n",
       "      <th>pickup_latitude</th>\n",
       "      <th>dropoff_longitude</th>\n",
       "      <th>dropoff_latitude</th>\n",
       "      <th>passenger_count</th>\n",
       "    </tr>\n",
       "  </thead>\n",
       "  <tbody>\n",
       "    <tr>\n",
       "      <th>count</th>\n",
       "      <td>7.000000e+06</td>\n",
       "      <td>7.000000e+06</td>\n",
       "      <td>7.000000e+06</td>\n",
       "      <td>6.999953e+06</td>\n",
       "      <td>6.999953e+06</td>\n",
       "      <td>7.000000e+06</td>\n",
       "    </tr>\n",
       "    <tr>\n",
       "      <th>mean</th>\n",
       "      <td>1.133867e+01</td>\n",
       "      <td>-7.251402e+01</td>\n",
       "      <td>3.992355e+01</td>\n",
       "      <td>-7.251180e+01</td>\n",
       "      <td>3.992142e+01</td>\n",
       "      <td>1.684787e+00</td>\n",
       "    </tr>\n",
       "    <tr>\n",
       "      <th>std</th>\n",
       "      <td>9.805315e+00</td>\n",
       "      <td>1.296179e+01</td>\n",
       "      <td>9.050569e+00</td>\n",
       "      <td>1.281304e+01</td>\n",
       "      <td>9.472701e+00</td>\n",
       "      <td>1.325102e+00</td>\n",
       "    </tr>\n",
       "    <tr>\n",
       "      <th>min</th>\n",
       "      <td>-1.077500e+02</td>\n",
       "      <td>-3.439245e+03</td>\n",
       "      <td>-3.488080e+03</td>\n",
       "      <td>-3.412653e+03</td>\n",
       "      <td>-3.488080e+03</td>\n",
       "      <td>0.000000e+00</td>\n",
       "    </tr>\n",
       "    <tr>\n",
       "      <th>25%</th>\n",
       "      <td>6.000000e+00</td>\n",
       "      <td>-7.399207e+01</td>\n",
       "      <td>4.073491e+01</td>\n",
       "      <td>-7.399139e+01</td>\n",
       "      <td>4.073404e+01</td>\n",
       "      <td>1.000000e+00</td>\n",
       "    </tr>\n",
       "    <tr>\n",
       "      <th>50%</th>\n",
       "      <td>8.500000e+00</td>\n",
       "      <td>-7.398182e+01</td>\n",
       "      <td>4.075263e+01</td>\n",
       "      <td>-7.398015e+01</td>\n",
       "      <td>4.075316e+01</td>\n",
       "      <td>1.000000e+00</td>\n",
       "    </tr>\n",
       "    <tr>\n",
       "      <th>75%</th>\n",
       "      <td>1.250000e+01</td>\n",
       "      <td>-7.396711e+01</td>\n",
       "      <td>4.076711e+01</td>\n",
       "      <td>-7.396368e+01</td>\n",
       "      <td>4.076811e+01</td>\n",
       "      <td>2.000000e+00</td>\n",
       "    </tr>\n",
       "    <tr>\n",
       "      <th>max</th>\n",
       "      <td>1.273310e+03</td>\n",
       "      <td>3.439426e+03</td>\n",
       "      <td>3.344459e+03</td>\n",
       "      <td>3.457622e+03</td>\n",
       "      <td>3.351403e+03</td>\n",
       "      <td>2.080000e+02</td>\n",
       "    </tr>\n",
       "  </tbody>\n",
       "</table>\n",
       "</div>"
      ],
      "text/plain": [
       "        fare_amount  pickup_longitude  pickup_latitude  dropoff_longitude  \\\n",
       "count  7.000000e+06      7.000000e+06     7.000000e+06       6.999953e+06   \n",
       "mean   1.133867e+01     -7.251402e+01     3.992355e+01      -7.251180e+01   \n",
       "std    9.805315e+00      1.296179e+01     9.050569e+00       1.281304e+01   \n",
       "min   -1.077500e+02     -3.439245e+03    -3.488080e+03      -3.412653e+03   \n",
       "25%    6.000000e+00     -7.399207e+01     4.073491e+01      -7.399139e+01   \n",
       "50%    8.500000e+00     -7.398182e+01     4.075263e+01      -7.398015e+01   \n",
       "75%    1.250000e+01     -7.396711e+01     4.076711e+01      -7.396368e+01   \n",
       "max    1.273310e+03      3.439426e+03     3.344459e+03       3.457622e+03   \n",
       "\n",
       "       dropoff_latitude  passenger_count  \n",
       "count      6.999953e+06     7.000000e+06  \n",
       "mean       3.992142e+01     1.684787e+00  \n",
       "std        9.472701e+00     1.325102e+00  \n",
       "min       -3.488080e+03     0.000000e+00  \n",
       "25%        4.073404e+01     1.000000e+00  \n",
       "50%        4.075316e+01     1.000000e+00  \n",
       "75%        4.076811e+01     2.000000e+00  \n",
       "max        3.351403e+03     2.080000e+02  "
      ]
     },
     "execution_count": 5,
     "metadata": {},
     "output_type": "execute_result"
    }
   ],
   "source": [
    "fare.describe()"
   ]
  },
  {
   "cell_type": "code",
   "execution_count": 6,
   "metadata": {
    "execution": {
     "iopub.execute_input": "2022-02-28T19:20:45.619192Z",
     "iopub.status.busy": "2022-02-28T19:20:45.618638Z",
     "iopub.status.idle": "2022-02-28T19:20:45.622056Z",
     "shell.execute_reply": "2022-02-28T19:20:45.621514Z",
     "shell.execute_reply.started": "2022-02-28T19:19:43.391582Z"
    },
    "papermill": {
     "duration": 0.027649,
     "end_time": "2022-02-28T19:20:45.622184",
     "exception": false,
     "start_time": "2022-02-28T19:20:45.594535",
     "status": "completed"
    },
    "tags": []
   },
   "outputs": [
    {
     "data": {
      "text/plain": [
       "(7000000, 8)"
      ]
     },
     "execution_count": 6,
     "metadata": {},
     "output_type": "execute_result"
    }
   ],
   "source": [
    "fare.shape"
   ]
  },
  {
   "cell_type": "markdown",
   "metadata": {
    "papermill": {
     "duration": 0.019687,
     "end_time": "2022-02-28T19:20:45.661957",
     "exception": false,
     "start_time": "2022-02-28T19:20:45.642270",
     "status": "completed"
    },
    "tags": []
   },
   "source": [
    "Here we can see that the dataset is having 7000000 rows and 8 columns."
   ]
  },
  {
   "cell_type": "code",
   "execution_count": 7,
   "metadata": {
    "execution": {
     "iopub.execute_input": "2022-02-28T19:20:45.705990Z",
     "iopub.status.busy": "2022-02-28T19:20:45.705416Z",
     "iopub.status.idle": "2022-02-28T19:20:46.394299Z",
     "shell.execute_reply": "2022-02-28T19:20:46.393740Z"
    },
    "papermill": {
     "duration": 0.712584,
     "end_time": "2022-02-28T19:20:46.394427",
     "exception": false,
     "start_time": "2022-02-28T19:20:45.681843",
     "status": "completed"
    },
    "tags": []
   },
   "outputs": [
    {
     "data": {
      "text/plain": [
       "key                   0\n",
       "fare_amount           0\n",
       "pickup_datetime       0\n",
       "pickup_longitude      0\n",
       "pickup_latitude       0\n",
       "dropoff_longitude    47\n",
       "dropoff_latitude     47\n",
       "passenger_count       0\n",
       "dtype: int64"
      ]
     },
     "execution_count": 7,
     "metadata": {},
     "output_type": "execute_result"
    }
   ],
   "source": [
    "fare.isnull().sum() # to check if any rows are having null values"
   ]
  },
  {
   "cell_type": "code",
   "execution_count": 8,
   "metadata": {
    "execution": {
     "iopub.execute_input": "2022-02-28T19:20:46.440356Z",
     "iopub.status.busy": "2022-02-28T19:20:46.439806Z",
     "iopub.status.idle": "2022-02-28T19:20:47.707981Z",
     "shell.execute_reply": "2022-02-28T19:20:47.708650Z"
    },
    "papermill": {
     "duration": 1.293921,
     "end_time": "2022-02-28T19:20:47.708817",
     "exception": false,
     "start_time": "2022-02-28T19:20:46.414896",
     "status": "completed"
    },
    "tags": []
   },
   "outputs": [],
   "source": [
    "#to drop all the rows having null values\n",
    "fare = fare.dropna(how='any' ,axis =0)"
   ]
  },
  {
   "cell_type": "code",
   "execution_count": 9,
   "metadata": {
    "execution": {
     "iopub.execute_input": "2022-02-28T19:20:47.753802Z",
     "iopub.status.busy": "2022-02-28T19:20:47.753203Z",
     "iopub.status.idle": "2022-02-28T19:21:03.915460Z",
     "shell.execute_reply": "2022-02-28T19:21:03.914903Z"
    },
    "papermill": {
     "duration": 16.185378,
     "end_time": "2022-02-28T19:21:03.915603",
     "exception": false,
     "start_time": "2022-02-28T19:20:47.730225",
     "status": "completed"
    },
    "tags": []
   },
   "outputs": [
    {
     "data": {
      "text/plain": [
       "0"
      ]
     },
     "execution_count": 9,
     "metadata": {},
     "output_type": "execute_result"
    }
   ],
   "source": [
    "# to check if any duplicates are present\n",
    "fare.duplicated().sum()"
   ]
  },
  {
   "cell_type": "code",
   "execution_count": 10,
   "metadata": {
    "execution": {
     "iopub.execute_input": "2022-02-28T19:21:03.961026Z",
     "iopub.status.busy": "2022-02-28T19:21:03.960460Z",
     "iopub.status.idle": "2022-02-28T19:21:04.648570Z",
     "shell.execute_reply": "2022-02-28T19:21:04.648085Z"
    },
    "papermill": {
     "duration": 0.71222,
     "end_time": "2022-02-28T19:21:04.648731",
     "exception": false,
     "start_time": "2022-02-28T19:21:03.936511",
     "status": "completed"
    },
    "tags": []
   },
   "outputs": [
    {
     "data": {
      "text/plain": [
       "key                  0\n",
       "fare_amount          0\n",
       "pickup_datetime      0\n",
       "pickup_longitude     0\n",
       "pickup_latitude      0\n",
       "dropoff_longitude    0\n",
       "dropoff_latitude     0\n",
       "passenger_count      0\n",
       "dtype: int64"
      ]
     },
     "execution_count": 10,
     "metadata": {},
     "output_type": "execute_result"
    }
   ],
   "source": [
    "fare.isnull().sum()"
   ]
  },
  {
   "cell_type": "code",
   "execution_count": 11,
   "metadata": {
    "execution": {
     "iopub.execute_input": "2022-02-28T19:21:04.694518Z",
     "iopub.status.busy": "2022-02-28T19:21:04.693968Z",
     "iopub.status.idle": "2022-02-28T19:21:05.274548Z",
     "shell.execute_reply": "2022-02-28T19:21:05.274999Z"
    },
    "papermill": {
     "duration": 0.605025,
     "end_time": "2022-02-28T19:21:05.275176",
     "exception": false,
     "start_time": "2022-02-28T19:21:04.670151",
     "status": "completed"
    },
    "tags": []
   },
   "outputs": [
    {
     "name": "stdout",
     "output_type": "stream",
     "text": [
      "6974732\n",
      "Data lost after the cleaning process:  25268\n"
     ]
    }
   ],
   "source": [
    "\n",
    "def get_cleaned(df):\n",
    "    return df[(df.fare_amount > 0) &\n",
    "              (df.passenger_count > 0) & (df.passenger_count < 8)]\n",
    "\n",
    "fare = get_cleaned(fare)\n",
    "print(len(fare))\n",
    "print(\"Data lost after the cleaning process: \", 7000000 - len(fare))"
   ]
  },
  {
   "cell_type": "markdown",
   "metadata": {
    "papermill": {
     "duration": 0.021101,
     "end_time": "2022-02-28T19:21:05.317867",
     "exception": false,
     "start_time": "2022-02-28T19:21:05.296766",
     "status": "completed"
    },
    "tags": []
   },
   "source": [
    "In many columns passenger_count is greater than 7 . But a car can be maximum 7 seater . \n",
    "Also, fare amount cannot be negative.\n",
    "Thus to remove this we applied the above function and lost 25268 rows which is 0.3% of the total data . Hence, we can easily remove the above rows. "
   ]
  },
  {
   "cell_type": "code",
   "execution_count": 12,
   "metadata": {
    "execution": {
     "iopub.execute_input": "2022-02-28T19:21:05.366935Z",
     "iopub.status.busy": "2022-02-28T19:21:05.366208Z",
     "iopub.status.idle": "2022-02-28T19:21:05.368880Z",
     "shell.execute_reply": "2022-02-28T19:21:05.368414Z"
    },
    "papermill": {
     "duration": 0.029744,
     "end_time": "2022-02-28T19:21:05.369018",
     "exception": false,
     "start_time": "2022-02-28T19:21:05.339274",
     "status": "completed"
    },
    "tags": []
   },
   "outputs": [],
   "source": [
    "# function to take time from pickup_datetime and converting it into secs\n",
    "def func(x):\n",
    "    x = x.split()\n",
    "    if len(x) == 3:\n",
    "        time = x[1]\n",
    "        time = time.split(\":\")\n",
    "        sec = int(time[0]) * 3600 + int(time[1]) * 60 + int(time[2])\n",
    "        return sec\n",
    "    else:\n",
    "        return \"Error_values\""
   ]
  },
  {
   "cell_type": "code",
   "execution_count": 13,
   "metadata": {
    "execution": {
     "iopub.execute_input": "2022-02-28T19:21:05.417324Z",
     "iopub.status.busy": "2022-02-28T19:21:05.416381Z",
     "iopub.status.idle": "2022-02-28T19:21:05.420534Z",
     "shell.execute_reply": "2022-02-28T19:21:05.420087Z"
    },
    "papermill": {
     "duration": 0.030077,
     "end_time": "2022-02-28T19:21:05.420679",
     "exception": false,
     "start_time": "2022-02-28T19:21:05.390602",
     "status": "completed"
    },
    "tags": []
   },
   "outputs": [
    {
     "data": {
      "text/plain": [
       "62781"
      ]
     },
     "execution_count": 13,
     "metadata": {},
     "output_type": "execute_result"
    }
   ],
   "source": [
    "func('2009-06-15 17:26:21 UTC') # example showing a value "
   ]
  },
  {
   "cell_type": "code",
   "execution_count": 14,
   "metadata": {
    "execution": {
     "iopub.execute_input": "2022-02-28T19:21:05.468423Z",
     "iopub.status.busy": "2022-02-28T19:21:05.467584Z",
     "iopub.status.idle": "2022-02-28T19:21:15.942901Z",
     "shell.execute_reply": "2022-02-28T19:21:15.941847Z"
    },
    "papermill": {
     "duration": 10.500282,
     "end_time": "2022-02-28T19:21:15.943046",
     "exception": false,
     "start_time": "2022-02-28T19:21:05.442764",
     "status": "completed"
    },
    "tags": []
   },
   "outputs": [],
   "source": [
    "# add the values in a seperate column pickup_time_seconds\n",
    "fare['pickup_time_seconds'] = fare['pickup_datetime'].apply(func)"
   ]
  },
  {
   "cell_type": "code",
   "execution_count": 15,
   "metadata": {
    "execution": {
     "iopub.execute_input": "2022-02-28T19:21:15.992880Z",
     "iopub.status.busy": "2022-02-28T19:21:15.992255Z",
     "iopub.status.idle": "2022-02-28T19:21:16.647109Z",
     "shell.execute_reply": "2022-02-28T19:21:16.647581Z"
    },
    "papermill": {
     "duration": 0.682363,
     "end_time": "2022-02-28T19:21:16.647765",
     "exception": false,
     "start_time": "2022-02-28T19:21:15.965402",
     "status": "completed"
    },
    "tags": []
   },
   "outputs": [],
   "source": [
    "fare = fare[fare.pickup_time_seconds != \"Error_values\"]\n",
    "# to remove al the values not having proper pickup time values "
   ]
  },
  {
   "cell_type": "code",
   "execution_count": 16,
   "metadata": {
    "execution": {
     "iopub.execute_input": "2022-02-28T19:21:16.703944Z",
     "iopub.status.busy": "2022-02-28T19:21:16.700328Z",
     "iopub.status.idle": "2022-02-28T19:21:16.709407Z",
     "shell.execute_reply": "2022-02-28T19:21:16.708922Z"
    },
    "papermill": {
     "duration": 0.039619,
     "end_time": "2022-02-28T19:21:16.709561",
     "exception": false,
     "start_time": "2022-02-28T19:21:16.669942",
     "status": "completed"
    },
    "tags": []
   },
   "outputs": [
    {
     "name": "stdout",
     "output_type": "stream",
     "text": [
      "<class 'pandas.core.frame.DataFrame'>\n",
      "Int64Index: 6974732 entries, 0 to 6999999\n",
      "Data columns (total 9 columns):\n",
      " #   Column               Dtype  \n",
      "---  ------               -----  \n",
      " 0   key                  object \n",
      " 1   fare_amount          float64\n",
      " 2   pickup_datetime      object \n",
      " 3   pickup_longitude     float64\n",
      " 4   pickup_latitude      float64\n",
      " 5   dropoff_longitude    float64\n",
      " 6   dropoff_latitude     float64\n",
      " 7   passenger_count      int64  \n",
      " 8   pickup_time_seconds  int64  \n",
      "dtypes: float64(5), int64(2), object(2)\n",
      "memory usage: 532.1+ MB\n"
     ]
    }
   ],
   "source": [
    "fare.info()"
   ]
  },
  {
   "cell_type": "code",
   "execution_count": 17,
   "metadata": {
    "execution": {
     "iopub.execute_input": "2022-02-28T19:21:16.758294Z",
     "iopub.status.busy": "2022-02-28T19:21:16.757399Z",
     "iopub.status.idle": "2022-02-28T19:21:18.045270Z",
     "shell.execute_reply": "2022-02-28T19:21:18.044736Z"
    },
    "papermill": {
     "duration": 1.313322,
     "end_time": "2022-02-28T19:21:18.045406",
     "exception": false,
     "start_time": "2022-02-28T19:21:16.732084",
     "status": "completed"
    },
    "tags": []
   },
   "outputs": [
    {
     "data": {
      "text/plain": [
       "fare_amount            1.000000\n",
       "pickup_longitude       0.008681\n",
       "pickup_latitude       -0.006770\n",
       "dropoff_longitude      0.009424\n",
       "dropoff_latitude      -0.006777\n",
       "passenger_count        0.012509\n",
       "pickup_time_seconds   -0.017755\n",
       "Name: fare_amount, dtype: float64"
      ]
     },
     "execution_count": 17,
     "metadata": {},
     "output_type": "execute_result"
    }
   ],
   "source": [
    "fare.corr()['fare_amount']"
   ]
  },
  {
   "cell_type": "markdown",
   "metadata": {
    "papermill": {
     "duration": 0.022516,
     "end_time": "2022-02-28T19:21:18.096295",
     "exception": false,
     "start_time": "2022-02-28T19:21:18.073779",
     "status": "completed"
    },
    "tags": []
   },
   "source": [
    "## HEATMAP SHOWING CORRELATION BETWEEN COLUMNS"
   ]
  },
  {
   "cell_type": "code",
   "execution_count": 18,
   "metadata": {
    "execution": {
     "iopub.execute_input": "2022-02-28T19:21:18.147073Z",
     "iopub.status.busy": "2022-02-28T19:21:18.145915Z",
     "iopub.status.idle": "2022-02-28T19:21:19.726532Z",
     "shell.execute_reply": "2022-02-28T19:21:19.725905Z"
    },
    "papermill": {
     "duration": 1.607721,
     "end_time": "2022-02-28T19:21:19.726676",
     "exception": false,
     "start_time": "2022-02-28T19:21:18.118955",
     "status": "completed"
    },
    "tags": []
   },
   "outputs": [
    {
     "data": {
      "text/plain": [
       "<AxesSubplot:>"
      ]
     },
     "execution_count": 18,
     "metadata": {},
     "output_type": "execute_result"
    },
    {
     "data": {
      "image/png": "[encoded data removed]",
      "text/plain": [
       "<Figure size 864x432 with 2 Axes>"
      ]
     },
     "metadata": {
      "needs_background": "light"
     },
     "output_type": "display_data"
    }
   ],
   "source": [
    "plt.figure(figsize = (12, 6))\n",
    "sns.heatmap(fare.corr())"
   ]
  },
  {
   "cell_type": "code",
   "execution_count": 19,
   "metadata": {
    "execution": {
     "iopub.execute_input": "2022-02-28T19:21:19.780644Z",
     "iopub.status.busy": "2022-02-28T19:21:19.779763Z",
     "iopub.status.idle": "2022-02-28T19:21:19.782675Z",
     "shell.execute_reply": "2022-02-28T19:21:19.782068Z"
    },
    "papermill": {
     "duration": 0.031685,
     "end_time": "2022-02-28T19:21:19.782814",
     "exception": false,
     "start_time": "2022-02-28T19:21:19.751129",
     "status": "completed"
    },
    "tags": []
   },
   "outputs": [],
   "source": [
    "t = '00:22:10'\n",
    "#dt.datetime(t)"
   ]
  },
  {
   "cell_type": "code",
   "execution_count": 20,
   "metadata": {
    "execution": {
     "iopub.execute_input": "2022-02-28T19:21:19.836892Z",
     "iopub.status.busy": "2022-02-28T19:21:19.836137Z",
     "iopub.status.idle": "2022-02-28T19:21:19.839031Z",
     "shell.execute_reply": "2022-02-28T19:21:19.838557Z"
    },
    "papermill": {
     "duration": 0.031759,
     "end_time": "2022-02-28T19:21:19.839164",
     "exception": false,
     "start_time": "2022-02-28T19:21:19.807405",
     "status": "completed"
    },
    "tags": []
   },
   "outputs": [],
   "source": [
    "x = [\"fare_amount\"]\n",
    "y = [\"passenger_count\",\"pickup_longitude\",\"pickup_latitude\",\"dropoff_longitude\",\"dropoff_latitude\"]"
   ]
  },
  {
   "cell_type": "code",
   "execution_count": 21,
   "metadata": {
    "execution": {
     "iopub.execute_input": "2022-02-28T19:21:19.982082Z",
     "iopub.status.busy": "2022-02-28T19:21:19.970197Z",
     "iopub.status.idle": "2022-02-28T19:23:30.095214Z",
     "shell.execute_reply": "2022-02-28T19:23:30.094609Z"
    },
    "papermill": {
     "duration": 130.231344,
     "end_time": "2022-02-28T19:23:30.095362",
     "exception": false,
     "start_time": "2022-02-28T19:21:19.864018",
     "status": "completed"
    },
    "scrolled": true,
    "tags": []
   },
   "outputs": [
    {
     "name": "stderr",
     "output_type": "stream",
     "text": [
      "/opt/conda/lib/python3.7/site-packages/seaborn/distributions.py:2557: FutureWarning: `distplot` is a deprecated function and will be removed in a future version. Please adapt your code to use either `displot` (a figure-level function with similar flexibility) or `histplot` (an axes-level function for histograms).\n",
      "  warnings.warn(msg, FutureWarning)\n",
      "/opt/conda/lib/python3.7/site-packages/seaborn/distributions.py:2557: FutureWarning: `distplot` is a deprecated function and will be removed in a future version. Please adapt your code to use either `displot` (a figure-level function with similar flexibility) or `histplot` (an axes-level function for histograms).\n",
      "  warnings.warn(msg, FutureWarning)\n",
      "/opt/conda/lib/python3.7/site-packages/seaborn/distributions.py:2557: FutureWarning: `distplot` is a deprecated function and will be removed in a future version. Please adapt your code to use either `displot` (a figure-level function with similar flexibility) or `histplot` (an axes-level function for histograms).\n",
      "  warnings.warn(msg, FutureWarning)\n",
      "/opt/conda/lib/python3.7/site-packages/seaborn/distributions.py:2557: FutureWarning: `distplot` is a deprecated function and will be removed in a future version. Please adapt your code to use either `displot` (a figure-level function with similar flexibility) or `histplot` (an axes-level function for histograms).\n",
      "  warnings.warn(msg, FutureWarning)\n",
      "/opt/conda/lib/python3.7/site-packages/seaborn/distributions.py:2557: FutureWarning: `distplot` is a deprecated function and will be removed in a future version. Please adapt your code to use either `displot` (a figure-level function with similar flexibility) or `histplot` (an axes-level function for histograms).\n",
      "  warnings.warn(msg, FutureWarning)\n"
     ]
    },
    {
     "data": {
      "text/plain": [
       "<AxesSubplot:xlabel='dropoff_latitude', ylabel='Density'>"
      ]
     },
     "execution_count": 21,
     "metadata": {},
     "output_type": "execute_result"
    },
    {
     "data": {
      "image/png": "[encoded data removed]",
      "text/plain": [
       "<Figure size 1440x1080 with 5 Axes>"
      ]
     },
     "metadata": {
      "needs_background": "light"
     },
     "output_type": "display_data"
    }
   ],
   "source": [
    "plt.figure(figsize=(20, 15))\n",
    "sns.set_style('darkgrid')\n",
    "plt.subplot(321)\n",
    "sns.distplot(fare[\"fare_amount\"])\n",
    "plt.subplot(322)\n",
    "sns.distplot(fare[\"pickup_longitude\"])\n",
    "plt.subplot(323)\n",
    "sns.distplot(fare[\"pickup_latitude\"],bins=20)\n",
    "plt.subplot(324)\n",
    "sns.distplot(fare[\"dropoff_longitude\"],bins=50)\n",
    "plt.subplot(325)\n",
    "sns.distplot(fare[\"dropoff_latitude\"],bins=50)\n"
   ]
  },
  {
   "cell_type": "code",
   "execution_count": 22,
   "metadata": {
    "execution": {
     "iopub.execute_input": "2022-02-28T19:23:30.264061Z",
     "iopub.status.busy": "2022-02-28T19:23:30.263375Z",
     "iopub.status.idle": "2022-02-28T19:23:30.266237Z",
     "shell.execute_reply": "2022-02-28T19:23:30.265716Z"
    },
    "papermill": {
     "duration": 0.143223,
     "end_time": "2022-02-28T19:23:30.266369",
     "exception": false,
     "start_time": "2022-02-28T19:23:30.123146",
     "status": "completed"
    },
    "tags": []
   },
   "outputs": [],
   "source": [
    "X = fare.iloc[:,3:]\n",
    "Y = fare.iloc[:,1]"
   ]
  },
  {
   "cell_type": "code",
   "execution_count": 23,
   "metadata": {
    "execution": {
     "iopub.execute_input": "2022-02-28T19:23:30.327102Z",
     "iopub.status.busy": "2022-02-28T19:23:30.326526Z",
     "iopub.status.idle": "2022-02-28T19:23:30.330338Z",
     "shell.execute_reply": "2022-02-28T19:23:30.329857Z"
    },
    "papermill": {
     "duration": 0.036764,
     "end_time": "2022-02-28T19:23:30.330523",
     "exception": false,
     "start_time": "2022-02-28T19:23:30.293759",
     "status": "completed"
    },
    "tags": []
   },
   "outputs": [
    {
     "data": {
      "text/plain": [
       "0     4.5\n",
       "1    16.9\n",
       "2     5.7\n",
       "3     7.7\n",
       "4     5.3\n",
       "Name: fare_amount, dtype: float64"
      ]
     },
     "execution_count": 23,
     "metadata": {},
     "output_type": "execute_result"
    }
   ],
   "source": [
    "Y.head()"
   ]
  },
  {
   "cell_type": "code",
   "execution_count": 24,
   "metadata": {
    "execution": {
     "iopub.execute_input": "2022-02-28T19:23:30.391104Z",
     "iopub.status.busy": "2022-02-28T19:23:30.390414Z",
     "iopub.status.idle": "2022-02-28T19:23:31.864087Z",
     "shell.execute_reply": "2022-02-28T19:23:31.863418Z"
    },
    "papermill": {
     "duration": 1.506094,
     "end_time": "2022-02-28T19:23:31.864230",
     "exception": false,
     "start_time": "2022-02-28T19:23:30.358136",
     "status": "completed"
    },
    "tags": []
   },
   "outputs": [],
   "source": [
    "#importing train-test split form sklearn module to split the dataset \n",
    "from sklearn.model_selection import train_test_split\n",
    "x_train,x_test,y_train,y_test=train_test_split(X,Y,test_size=0.2,random_state=42)"
   ]
  },
  {
   "cell_type": "code",
   "execution_count": 25,
   "metadata": {
    "execution": {
     "iopub.execute_input": "2022-02-28T19:23:31.930970Z",
     "iopub.status.busy": "2022-02-28T19:23:31.924222Z",
     "iopub.status.idle": "2022-02-28T19:23:31.934876Z",
     "shell.execute_reply": "2022-02-28T19:23:31.935377Z"
    },
    "papermill": {
     "duration": 0.04297,
     "end_time": "2022-02-28T19:23:31.935585",
     "exception": false,
     "start_time": "2022-02-28T19:23:31.892615",
     "status": "completed"
    },
    "tags": []
   },
   "outputs": [
    {
     "name": "stdout",
     "output_type": "stream",
     "text": [
      "<class 'pandas.core.frame.DataFrame'>\n",
      "Int64Index: 5579785 entries, 5538687 to 6436675\n",
      "Data columns (total 6 columns):\n",
      " #   Column               Dtype  \n",
      "---  ------               -----  \n",
      " 0   pickup_longitude     float64\n",
      " 1   pickup_latitude      float64\n",
      " 2   dropoff_longitude    float64\n",
      " 3   dropoff_latitude     float64\n",
      " 4   passenger_count      int64  \n",
      " 5   pickup_time_seconds  int64  \n",
      "dtypes: float64(4), int64(2)\n",
      "memory usage: 298.0 MB\n"
     ]
    }
   ],
   "source": [
    "x_train.info()"
   ]
  },
  {
   "cell_type": "markdown",
   "metadata": {
    "papermill": {
     "duration": 0.027557,
     "end_time": "2022-02-28T19:23:31.991675",
     "exception": false,
     "start_time": "2022-02-28T19:23:31.964118",
     "status": "completed"
    },
    "tags": []
   },
   "source": [
    "## Linear Regression"
   ]
  },
  {
   "cell_type": "code",
   "execution_count": 26,
   "metadata": {
    "execution": {
     "iopub.execute_input": "2022-02-28T19:23:32.052479Z",
     "iopub.status.busy": "2022-02-28T19:23:32.051785Z",
     "iopub.status.idle": "2022-02-28T19:23:33.308753Z",
     "shell.execute_reply": "2022-02-28T19:23:33.309197Z"
    },
    "papermill": {
     "duration": 1.289524,
     "end_time": "2022-02-28T19:23:33.309359",
     "exception": false,
     "start_time": "2022-02-28T19:23:32.019835",
     "status": "completed"
    },
    "tags": []
   },
   "outputs": [
    {
     "data": {
      "text/plain": [
       "LinearRegression()"
      ]
     },
     "execution_count": 26,
     "metadata": {},
     "output_type": "execute_result"
    }
   ],
   "source": [
    "from sklearn.linear_model import LinearRegression\n",
    "regressor = LinearRegression()\n",
    "regressor.fit(x_train,y_train)"
   ]
  },
  {
   "cell_type": "code",
   "execution_count": 27,
   "metadata": {
    "execution": {
     "iopub.execute_input": "2022-02-28T19:23:33.369751Z",
     "iopub.status.busy": "2022-02-28T19:23:33.368851Z",
     "iopub.status.idle": "2022-02-28T19:23:33.422031Z",
     "shell.execute_reply": "2022-02-28T19:23:33.421511Z"
    },
    "papermill": {
     "duration": 0.084173,
     "end_time": "2022-02-28T19:23:33.422172",
     "exception": false,
     "start_time": "2022-02-28T19:23:33.337999",
     "status": "completed"
    },
    "tags": []
   },
   "outputs": [
    {
     "data": {
      "text/plain": [
       "array([11.42388033, 11.30088929, 11.09617908, ..., 11.59935464,\n",
       "       11.40531036, 11.03821712])"
      ]
     },
     "execution_count": 27,
     "metadata": {},
     "output_type": "execute_result"
    }
   ],
   "source": [
    "y_pred = regressor.predict(x_test)\n",
    "y_pred"
   ]
  },
  {
   "cell_type": "code",
   "execution_count": 28,
   "metadata": {
    "execution": {
     "iopub.execute_input": "2022-02-28T19:23:33.484649Z",
     "iopub.status.busy": "2022-02-28T19:23:33.483999Z",
     "iopub.status.idle": "2022-02-28T19:23:33.497672Z",
     "shell.execute_reply": "2022-02-28T19:23:33.498360Z"
    },
    "papermill": {
     "duration": 0.047653,
     "end_time": "2022-02-28T19:23:33.498615",
     "exception": false,
     "start_time": "2022-02-28T19:23:33.450962",
     "status": "completed"
    },
    "tags": []
   },
   "outputs": [
    {
     "name": "stdout",
     "output_type": "stream",
     "text": [
      "9.84686221404023\n"
     ]
    }
   ],
   "source": [
    "from sklearn import metrics\n",
    "print(np.sqrt(metrics.mean_squared_error(y_test,y_pred)))"
   ]
  },
  {
   "cell_type": "markdown",
   "metadata": {
    "papermill": {
     "duration": 0.02858,
     "end_time": "2022-02-28T19:23:33.557068",
     "exception": false,
     "start_time": "2022-02-28T19:23:33.528488",
     "status": "completed"
    },
    "tags": []
   },
   "source": [
    "## Random Forest Regression"
   ]
  },
  {
   "cell_type": "code",
   "execution_count": 29,
   "metadata": {
    "execution": {
     "iopub.execute_input": "2022-02-28T19:23:33.620145Z",
     "iopub.status.busy": "2022-02-28T19:23:33.619514Z",
     "iopub.status.idle": "2022-02-28T19:33:42.191482Z",
     "shell.execute_reply": "2022-02-28T19:33:42.190859Z"
    },
    "papermill": {
     "duration": 608.605654,
     "end_time": "2022-02-28T19:33:42.191751",
     "exception": false,
     "start_time": "2022-02-28T19:23:33.586097",
     "status": "completed"
    },
    "tags": []
   },
   "outputs": [
    {
     "name": "stdout",
     "output_type": "stream",
     "text": [
      "CPU times: user 39min 29s, sys: 11.7 s, total: 39min 41s\n",
      "Wall time: 10min 8s\n"
     ]
    },
    {
     "data": {
      "text/plain": [
       "RandomForestRegressor(n_estimators=20, n_jobs=-1, random_state=10)"
      ]
     },
     "execution_count": 29,
     "metadata": {},
     "output_type": "execute_result"
    }
   ],
   "source": [
    "%%time\n",
    "from sklearn.ensemble import RandomForestRegressor\n",
    "rmf=RandomForestRegressor(n_estimators=20,random_state=10, n_jobs=-1)\n",
    "rmf_clf=rmf.fit(x_train,y_train)\n",
    "rmf_clf    "
   ]
  },
  {
   "cell_type": "code",
   "execution_count": 30,
   "metadata": {
    "execution": {
     "iopub.execute_input": "2022-02-28T19:33:42.282595Z",
     "iopub.status.busy": "2022-02-28T19:33:42.281571Z",
     "iopub.status.idle": "2022-02-28T19:33:53.365430Z",
     "shell.execute_reply": "2022-02-28T19:33:53.364504Z"
    },
    "papermill": {
     "duration": 11.134577,
     "end_time": "2022-02-28T19:33:53.365597",
     "exception": false,
     "start_time": "2022-02-28T19:33:42.231020",
     "status": "completed"
    },
    "tags": []
   },
   "outputs": [
    {
     "data": {
      "text/plain": [
       "array([55.279,  9.015, 10.26 , ..., 16.43 , 28.367, 11.925])"
      ]
     },
     "execution_count": 30,
     "metadata": {},
     "output_type": "execute_result"
    }
   ],
   "source": [
    "y_pred2 = rmf.predict(x_test)\n",
    "y_pred2"
   ]
  },
  {
   "cell_type": "code",
   "execution_count": 31,
   "metadata": {
    "execution": {
     "iopub.execute_input": "2022-02-28T19:33:53.428641Z",
     "iopub.status.busy": "2022-02-28T19:33:53.428053Z",
     "iopub.status.idle": "2022-02-28T19:33:53.442631Z",
     "shell.execute_reply": "2022-02-28T19:33:53.442121Z"
    },
    "papermill": {
     "duration": 0.047087,
     "end_time": "2022-02-28T19:33:53.442786",
     "exception": false,
     "start_time": "2022-02-28T19:33:53.395699",
     "status": "completed"
    },
    "tags": []
   },
   "outputs": [
    {
     "name": "stdout",
     "output_type": "stream",
     "text": [
      "4.643090167823948\n"
     ]
    }
   ],
   "source": [
    "from sklearn import metrics\n",
    "print(np.sqrt(metrics.mean_squared_error(y_test,y_pred2)))"
   ]
  },
  {
   "cell_type": "code",
   "execution_count": 32,
   "metadata": {
    "execution": {
     "iopub.execute_input": "2022-02-28T19:33:53.506222Z",
     "iopub.status.busy": "2022-02-28T19:33:53.505691Z",
     "iopub.status.idle": "2022-02-28T19:33:53.525113Z",
     "shell.execute_reply": "2022-02-28T19:33:53.525606Z"
    },
    "papermill": {
     "duration": 0.052963,
     "end_time": "2022-02-28T19:33:53.525773",
     "exception": false,
     "start_time": "2022-02-28T19:33:53.472810",
     "status": "completed"
    },
    "tags": []
   },
   "outputs": [
    {
     "name": "stderr",
     "output_type": "stream",
     "text": [
      "/opt/conda/lib/python3.7/site-packages/ipykernel_launcher.py:1: SettingWithCopyWarning: \n",
      "A value is trying to be set on a copy of a slice from a DataFrame.\n",
      "Try using .loc[row_indexer,col_indexer] = value instead\n",
      "\n",
      "See the caveats in the documentation: https://pandas.pydata.org/pandas-docs/stable/user_guide/indexing.html#returning-a-view-versus-a-copy\n",
      "  \"\"\"Entry point for launching an IPython kernel.\n",
      "/opt/conda/lib/python3.7/site-packages/ipykernel_launcher.py:2: SettingWithCopyWarning: \n",
      "A value is trying to be set on a copy of a slice from a DataFrame.\n",
      "Try using .loc[row_indexer,col_indexer] = value instead\n",
      "\n",
      "See the caveats in the documentation: https://pandas.pydata.org/pandas-docs/stable/user_guide/indexing.html#returning-a-view-versus-a-copy\n",
      "  \n",
      "/opt/conda/lib/python3.7/site-packages/ipykernel_launcher.py:3: SettingWithCopyWarning: \n",
      "A value is trying to be set on a copy of a slice from a DataFrame.\n",
      "Try using .loc[row_indexer,col_indexer] = value instead\n",
      "\n",
      "See the caveats in the documentation: https://pandas.pydata.org/pandas-docs/stable/user_guide/indexing.html#returning-a-view-versus-a-copy\n",
      "  This is separate from the ipykernel package so we can avoid doing imports until\n"
     ]
    }
   ],
   "source": [
    "x_test['Prediction_random'] = y_pred2\n",
    "x_test[\"Fare\"] = y_test\n",
    "x_test[\"Prediction_linear\"] = y_pred"
   ]
  },
  {
   "cell_type": "code",
   "execution_count": 33,
   "metadata": {
    "execution": {
     "iopub.execute_input": "2022-02-28T19:33:53.590415Z",
     "iopub.status.busy": "2022-02-28T19:33:53.589557Z",
     "iopub.status.idle": "2022-02-28T19:33:53.610937Z",
     "shell.execute_reply": "2022-02-28T19:33:53.611431Z"
    },
    "papermill": {
     "duration": 0.055045,
     "end_time": "2022-02-28T19:33:53.611611",
     "exception": false,
     "start_time": "2022-02-28T19:33:53.556566",
     "status": "completed"
    },
    "tags": []
   },
   "outputs": [
    {
     "data": {
      "text/html": [
       "<div>\n",
       "<style scoped>\n",
       "    .dataframe tbody tr th:only-of-type {\n",
       "        vertical-align: middle;\n",
       "    }\n",
       "\n",
       "    .dataframe tbody tr th {\n",
       "        vertical-align: top;\n",
       "    }\n",
       "\n",
       "    .dataframe thead th {\n",
       "        text-align: right;\n",
       "    }\n",
       "</style>\n",
       "<table border=\"1\" class=\"dataframe\">\n",
       "  <thead>\n",
       "    <tr style=\"text-align: right;\">\n",
       "      <th></th>\n",
       "      <th>pickup_longitude</th>\n",
       "      <th>pickup_latitude</th>\n",
       "      <th>dropoff_longitude</th>\n",
       "      <th>dropoff_latitude</th>\n",
       "      <th>passenger_count</th>\n",
       "      <th>pickup_time_seconds</th>\n",
       "      <th>Prediction_random</th>\n",
       "      <th>Fare</th>\n",
       "      <th>Prediction_linear</th>\n",
       "    </tr>\n",
       "  </thead>\n",
       "  <tbody>\n",
       "    <tr>\n",
       "      <th>2272931</th>\n",
       "      <td>-73.961687</td>\n",
       "      <td>40.796056</td>\n",
       "      <td>-73.783136</td>\n",
       "      <td>40.648975</td>\n",
       "      <td>1</td>\n",
       "      <td>29221</td>\n",
       "      <td>55.279</td>\n",
       "      <td>57.33</td>\n",
       "      <td>11.423880</td>\n",
       "    </tr>\n",
       "    <tr>\n",
       "      <th>1450878</th>\n",
       "      <td>-73.943090</td>\n",
       "      <td>40.747288</td>\n",
       "      <td>-73.948583</td>\n",
       "      <td>40.763427</td>\n",
       "      <td>1</td>\n",
       "      <td>45780</td>\n",
       "      <td>9.015</td>\n",
       "      <td>8.00</td>\n",
       "      <td>11.300889</td>\n",
       "    </tr>\n",
       "    <tr>\n",
       "      <th>1066698</th>\n",
       "      <td>-73.973867</td>\n",
       "      <td>40.760506</td>\n",
       "      <td>-73.967344</td>\n",
       "      <td>40.792880</td>\n",
       "      <td>1</td>\n",
       "      <td>73502</td>\n",
       "      <td>10.260</td>\n",
       "      <td>9.30</td>\n",
       "      <td>11.096179</td>\n",
       "    </tr>\n",
       "    <tr>\n",
       "      <th>5302331</th>\n",
       "      <td>-73.978136</td>\n",
       "      <td>40.786658</td>\n",
       "      <td>-73.983303</td>\n",
       "      <td>40.771480</td>\n",
       "      <td>1</td>\n",
       "      <td>34650</td>\n",
       "      <td>6.255</td>\n",
       "      <td>6.50</td>\n",
       "      <td>11.382696</td>\n",
       "    </tr>\n",
       "    <tr>\n",
       "      <th>2381526</th>\n",
       "      <td>-73.976319</td>\n",
       "      <td>40.744180</td>\n",
       "      <td>-73.973144</td>\n",
       "      <td>40.746149</td>\n",
       "      <td>1</td>\n",
       "      <td>49617</td>\n",
       "      <td>4.970</td>\n",
       "      <td>6.00</td>\n",
       "      <td>11.272459</td>\n",
       "    </tr>\n",
       "    <tr>\n",
       "      <th>...</th>\n",
       "      <td>...</td>\n",
       "      <td>...</td>\n",
       "      <td>...</td>\n",
       "      <td>...</td>\n",
       "      <td>...</td>\n",
       "      <td>...</td>\n",
       "      <td>...</td>\n",
       "      <td>...</td>\n",
       "      <td>...</td>\n",
       "    </tr>\n",
       "    <tr>\n",
       "      <th>1715515</th>\n",
       "      <td>-74.005401</td>\n",
       "      <td>40.740026</td>\n",
       "      <td>-73.999001</td>\n",
       "      <td>40.734268</td>\n",
       "      <td>3</td>\n",
       "      <td>10269</td>\n",
       "      <td>4.905</td>\n",
       "      <td>7.00</td>\n",
       "      <td>11.751220</td>\n",
       "    </tr>\n",
       "    <tr>\n",
       "      <th>560979</th>\n",
       "      <td>-74.002805</td>\n",
       "      <td>40.728664</td>\n",
       "      <td>-73.964639</td>\n",
       "      <td>40.772970</td>\n",
       "      <td>1</td>\n",
       "      <td>36172</td>\n",
       "      <td>16.500</td>\n",
       "      <td>17.50</td>\n",
       "      <td>11.371549</td>\n",
       "    </tr>\n",
       "    <tr>\n",
       "      <th>2685473</th>\n",
       "      <td>-73.992182</td>\n",
       "      <td>40.725025</td>\n",
       "      <td>-73.945675</td>\n",
       "      <td>40.792948</td>\n",
       "      <td>2</td>\n",
       "      <td>18084</td>\n",
       "      <td>16.430</td>\n",
       "      <td>13.30</td>\n",
       "      <td>11.599355</td>\n",
       "    </tr>\n",
       "    <tr>\n",
       "      <th>1072162</th>\n",
       "      <td>-73.871185</td>\n",
       "      <td>40.773754</td>\n",
       "      <td>-73.986122</td>\n",
       "      <td>40.728745</td>\n",
       "      <td>5</td>\n",
       "      <td>82793</td>\n",
       "      <td>28.367</td>\n",
       "      <td>29.00</td>\n",
       "      <td>11.405310</td>\n",
       "    </tr>\n",
       "    <tr>\n",
       "      <th>6908889</th>\n",
       "      <td>-73.956877</td>\n",
       "      <td>40.771022</td>\n",
       "      <td>-73.967993</td>\n",
       "      <td>40.803912</td>\n",
       "      <td>1</td>\n",
       "      <td>81360</td>\n",
       "      <td>11.925</td>\n",
       "      <td>12.50</td>\n",
       "      <td>11.038217</td>\n",
       "    </tr>\n",
       "  </tbody>\n",
       "</table>\n",
       "<p>1394947 rows × 9 columns</p>\n",
       "</div>"
      ],
      "text/plain": [
       "         pickup_longitude  pickup_latitude  dropoff_longitude  \\\n",
       "2272931        -73.961687        40.796056         -73.783136   \n",
       "1450878        -73.943090        40.747288         -73.948583   \n",
       "1066698        -73.973867        40.760506         -73.967344   \n",
       "5302331        -73.978136        40.786658         -73.983303   \n",
       "2381526        -73.976319        40.744180         -73.973144   \n",
       "...                   ...              ...                ...   \n",
       "1715515        -74.005401        40.740026         -73.999001   \n",
       "560979         -74.002805        40.728664         -73.964639   \n",
       "2685473        -73.992182        40.725025         -73.945675   \n",
       "1072162        -73.871185        40.773754         -73.986122   \n",
       "6908889        -73.956877        40.771022         -73.967993   \n",
       "\n",
       "         dropoff_latitude  passenger_count  pickup_time_seconds  \\\n",
       "2272931         40.648975                1                29221   \n",
       "1450878         40.763427                1                45780   \n",
       "1066698         40.792880                1                73502   \n",
       "5302331         40.771480                1                34650   \n",
       "2381526         40.746149                1                49617   \n",
       "...                   ...              ...                  ...   \n",
       "1715515         40.734268                3                10269   \n",
       "560979          40.772970                1                36172   \n",
       "2685473         40.792948                2                18084   \n",
       "1072162         40.728745                5                82793   \n",
       "6908889         40.803912                1                81360   \n",
       "\n",
       "         Prediction_random   Fare  Prediction_linear  \n",
       "2272931             55.279  57.33          11.423880  \n",
       "1450878              9.015   8.00          11.300889  \n",
       "1066698             10.260   9.30          11.096179  \n",
       "5302331              6.255   6.50          11.382696  \n",
       "2381526              4.970   6.00          11.272459  \n",
       "...                    ...    ...                ...  \n",
       "1715515              4.905   7.00          11.751220  \n",
       "560979              16.500  17.50          11.371549  \n",
       "2685473             16.430  13.30          11.599355  \n",
       "1072162             28.367  29.00          11.405310  \n",
       "6908889             11.925  12.50          11.038217  \n",
       "\n",
       "[1394947 rows x 9 columns]"
      ]
     },
     "execution_count": 33,
     "metadata": {},
     "output_type": "execute_result"
    }
   ],
   "source": [
    "x_test"
   ]
  },
  {
   "cell_type": "code",
   "execution_count": 34,
   "metadata": {
    "execution": {
     "iopub.execute_input": "2022-02-28T19:33:53.678737Z",
     "iopub.status.busy": "2022-02-28T19:33:53.677819Z",
     "iopub.status.idle": "2022-02-28T19:34:04.498249Z",
     "shell.execute_reply": "2022-02-28T19:34:04.497745Z"
    },
    "papermill": {
     "duration": 10.85477,
     "end_time": "2022-02-28T19:34:04.498404",
     "exception": false,
     "start_time": "2022-02-28T19:33:53.643634",
     "status": "completed"
    },
    "tags": []
   },
   "outputs": [
    {
     "name": "stdout",
     "output_type": "stream",
     "text": [
      "\u001b[33mWARNING: You are using pip version 21.0.1; however, version 22.0.3 is available.\r\n",
      "You should consider upgrading via the '/opt/conda/bin/python3.7 -m pip install --upgrade pip' command.\u001b[0m\r\n"
     ]
    }
   ],
   "source": [
    "!pip install jovian --quiet"
   ]
  },
  {
   "cell_type": "code",
   "execution_count": 35,
   "metadata": {
    "execution": {
     "iopub.execute_input": "2022-02-28T19:34:04.568060Z",
     "iopub.status.busy": "2022-02-28T19:34:04.567185Z",
     "iopub.status.idle": "2022-02-28T19:34:04.855905Z",
     "shell.execute_reply": "2022-02-28T19:34:04.855211Z"
    },
    "papermill": {
     "duration": 0.325697,
     "end_time": "2022-02-28T19:34:04.856056",
     "exception": false,
     "start_time": "2022-02-28T19:34:04.530359",
     "status": "completed"
    },
    "tags": []
   },
   "outputs": [
    {
     "data": {
      "application/javascript": [
       "if (window.IPython && IPython.notebook.kernel) IPython.notebook.kernel.execute('jovian.utils.jupyter.get_notebook_name_saved = lambda: \"' + IPython.notebook.notebook_name + '\"')"
      ],
      "text/plain": [
       "<IPython.core.display.Javascript object>"
      ]
     },
     "metadata": {},
     "output_type": "display_data"
    }
   ],
   "source": [
    "import jovian"
   ]
  },
  {
   "cell_type": "code",
   "execution_count": 36,
   "metadata": {
    "execution": {
     "iopub.execute_input": "2022-02-28T19:34:04.926112Z",
     "iopub.status.busy": "2022-02-28T19:34:04.925528Z",
     "iopub.status.idle": "2022-02-28T19:34:05.009753Z",
     "shell.execute_reply": "2022-02-28T19:34:05.008055Z"
    },
    "papermill": {
     "duration": 0.121527,
     "end_time": "2022-02-28T19:34:05.010001",
     "exception": true,
     "start_time": "2022-02-28T19:34:04.888474",
     "status": "failed"
    },
    "tags": []
   },
   "outputs": [
    {
     "ename": "AttributeError",
     "evalue": "module 'jovian' has no attribute 'log'",
     "output_type": "error",
     "traceback": [
      "\u001b[0;31m---------------------------------------------------------------------------\u001b[0m",
      "\u001b[0;31mAttributeError\u001b[0m                            Traceback (most recent call last)",
      "\u001b[0;32m<ipython-input-36-323a50ae718a>\u001b[0m in \u001b[0;36m<module>\u001b[0;34m\u001b[0m\n\u001b[0;32m----> 1\u001b[0;31m \u001b[0mjovian\u001b[0m\u001b[0;34m.\u001b[0m\u001b[0mlog\u001b[0m\u001b[0;34m(\u001b[0m\u001b[0;34m)\u001b[0m\u001b[0;34m\u001b[0m\u001b[0;34m\u001b[0m\u001b[0m\n\u001b[0m",
      "\u001b[0;31mAttributeError\u001b[0m: module 'jovian' has no attribute 'log'"
     ]
    }
   ],
   "source": [
    "jovian.log()"
   ]
  },
  {
   "cell_type": "code",
   "execution_count": null,
   "metadata": {
    "papermill": {
     "duration": null,
     "end_time": null,
     "exception": null,
     "start_time": null,
     "status": "pending"
    },
    "tags": []
   },
   "outputs": [],
   "source": [
    "jovian.commit(project = \"demo\")"
   ]
  },
  {
   "cell_type": "code",
   "execution_count": null,
   "metadata": {
    "papermill": {
     "duration": null,
     "end_time": null,
     "exception": null,
     "start_time": null,
     "status": "pending"
    },
    "tags": []
   },
   "outputs": [],
   "source": []
  }
 ],
 "metadata": {
  "language_info": {
   "codemirror_mode": {
    "name": "ipython",
    "version": 3
   },
   "file_extension": ".py",
   "mimetype": "text/x-python",
   "name": "python",
   "nbconvert_exporter": "python",
   "pygments_lexer": "ipython3",
   "version": "3.7.9"
  },
  "papermill": {
   "default_parameters": {},
   "duration": 827.712662,
   "end_time": "2022-02-28T19:34:07.025753",
   "environment_variables": {},
   "exception": true,
   "input_path": "__notebook__.ipynb",
   "output_path": "__notebook__.ipynb",
   "parameters": {},
   "start_time": "2022-02-28T19:20:19.313091",
   "version": "2.2.2"
  }
 },
 "nbformat": 4,
 "nbformat_minor": 4
}